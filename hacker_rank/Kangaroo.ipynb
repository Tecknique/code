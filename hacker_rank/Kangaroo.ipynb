{
 "cells": [
  {
   "cell_type": "code",
   "execution_count": null,
   "metadata": {
    "collapsed": true
   },
   "outputs": [],
   "source": [
    "def kangaroo(x1, v1, x2, v2):\n",
    "    roo1 = x1\n",
    "    roo2 = x2\n",
    "    totaljump = 0\n",
    "    if v1 == v2:\n",
    "        if x1 != x2:\n",
    "            return \"NO\"\n",
    "        else:\n",
    "            return \"YES\"\n",
    "    while roo1 != roo2: \n",
    "        if v1 < v2:\n",
    "            if roo1 < roo2:\n",
    "                return \"NO\"\n",
    "        elif v1 > v2:\n",
    "            if roo1 > roo2:\n",
    "                return \"NO\"\n",
    "        roo1 += v1\n",
    "        roo2 += v2\n",
    "    return \"YES\"\n",
    "        "
   ]
  }
 ],
 "metadata": {
  "kernelspec": {
   "display_name": "Python 2",
   "language": "python",
   "name": "python2"
  },
  "language_info": {
   "codemirror_mode": {
    "name": "ipython",
    "version": 2
   },
   "file_extension": ".py",
   "mimetype": "text/x-python",
   "name": "python",
   "nbconvert_exporter": "python",
   "pygments_lexer": "ipython2",
   "version": "2.7.13"
  }
 },
 "nbformat": 4,
 "nbformat_minor": 2
}
