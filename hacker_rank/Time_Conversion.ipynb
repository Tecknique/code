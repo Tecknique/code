{
 "cells": [
  {
   "cell_type": "code",
   "execution_count": 5,
   "metadata": {},
   "outputs": [
    {
     "data": {
      "text/plain": [
       "'19:40:22'"
      ]
     },
     "execution_count": 5,
     "metadata": {},
     "output_type": "execute_result"
    }
   ],
   "source": [
    "def timeConversion(s):\n",
    "    #\n",
    "    # Write your code here.\n",
    "    #\n",
    "\n",
    "    if s[-2] == \"P\":\n",
    "        srr = s.rstrip(\"PM\")\n",
    "        if s[0:2] == '12':\n",
    "            val = \"12\"\n",
    "        elif s[0] == 0:\n",
    "            val = str(int(srr[1]) + 12)\n",
    "        else:\n",
    "            val = str(int(srr[0:2]) + 12)\n",
    "        srr = val + srr[2:]\n",
    "    else:\n",
    "        srr = s.rstrip(\"AM\")\n",
    "        if s[0:2] == \"12\":\n",
    "            val = \"00\"\n",
    "            srr = val + srr[2:]\n",
    "    return srr\n",
    "\n",
    "s = '07:40:22PM'\n",
    "timeConversion(s)"
   ]
  }
 ],
 "metadata": {
  "kernelspec": {
   "display_name": "Python 2",
   "language": "python",
   "name": "python2"
  },
  "language_info": {
   "codemirror_mode": {
    "name": "ipython",
    "version": 2
   },
   "file_extension": ".py",
   "mimetype": "text/x-python",
   "name": "python",
   "nbconvert_exporter": "python",
   "pygments_lexer": "ipython2",
   "version": "2.7.13"
  }
 },
 "nbformat": 4,
 "nbformat_minor": 2
}
