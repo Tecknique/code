{
 "cells": [
  {
   "cell_type": "code",
   "execution_count": 24,
   "metadata": {
    "collapsed": true
   },
   "outputs": [],
   "source": [
    "def gradingStudents(grades):\n",
    "    # Write your code here\n",
    "    i = 0\n",
    "    while i != len(grades):\n",
    "        temp = grades[i]\n",
    "        if len(str(temp)) == 1:\n",
    "            grades[i] = temp\n",
    "        elif str(grades[i])[1] in '3489':\n",
    "            while temp % 5 != 0:\n",
    "                temp += 1\n",
    "            if temp < 40:\n",
    "                grades[i] = grades[i]\n",
    "            else:\n",
    "                grades[i] = temp\n",
    "        else:\n",
    "            grades[i] = temp\n",
    "        i += 1\n",
    "    return grades\n",
    "                \n",
    "            \n"
   ]
  },
  {
   "cell_type": "code",
   "execution_count": 25,
   "metadata": {},
   "outputs": [
    {
     "data": {
      "text/plain": [
       "[50, 60, 36, 97, 28, 61, 55, 27, 14, 29, 81, 16, 7, 1, 100, 42, 77, 40, 20, 29]"
      ]
     },
     "execution_count": 25,
     "metadata": {},
     "output_type": "execute_result"
    }
   ],
   "source": [
    "gradingStudents([50,59,36,97,28,61,54,27,14,29,81,16,7,1,99,42,77,39,20,29])"
   ]
  }
 ],
 "metadata": {
  "kernelspec": {
   "display_name": "Python 2",
   "language": "python",
   "name": "python2"
  },
  "language_info": {
   "codemirror_mode": {
    "name": "ipython",
    "version": 2
   },
   "file_extension": ".py",
   "mimetype": "text/x-python",
   "name": "python",
   "nbconvert_exporter": "python",
   "pygments_lexer": "ipython2",
   "version": "2.7.13"
  }
 },
 "nbformat": 4,
 "nbformat_minor": 2
}
