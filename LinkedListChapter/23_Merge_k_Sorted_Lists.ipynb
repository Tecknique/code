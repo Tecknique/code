{
 "cells": [
  {
   "cell_type": "code",
   "execution_count": null,
   "metadata": {
    "collapsed": true
   },
   "outputs": [],
   "source": [
    "# Definition for singly-linked list.\n",
    "# class ListNode(object):\n",
    "#     def __init__(self, x):\n",
    "#         self.val = x\n",
    "#         self.next = None\n",
    "\n",
    "class Solution(object):\n",
    "    def mergeKLists(self, lists):\n",
    "        \"\"\"\n",
    "        :type lists: List[ListNode]\n",
    "        :rtype: ListNode\n",
    "        \"\"\"\n",
    "        dummy = cur = ListNode(-1)\n",
    "        heap = []\n",
    "        if lists:\n",
    "            for node in lists:\n",
    "                if node:\n",
    "                    heap.append((node.val, node))\n",
    "            heapq.heapify(heap)\n",
    "            while heap:\n",
    "                minnode = heapq.heappop(heap)\n",
    "                cur.next = ListNode(minnode[0])\n",
    "                cur = cur.next\n",
    "                if minnode[1].next:\n",
    "                    heapq.heappush(heap, (minnode[1].next.val, minnode[1].next))\n",
    "            return dummy.next\n",
    "        else:\n",
    "            return None\n",
    "        \n",
    "                \n",
    "        \n",
    "            \n",
    "        \n",
    "        "
   ]
  }
 ],
 "metadata": {
  "kernelspec": {
   "display_name": "Python 2",
   "language": "python",
   "name": "python2"
  },
  "language_info": {
   "codemirror_mode": {
    "name": "ipython",
    "version": 2
   },
   "file_extension": ".py",
   "mimetype": "text/x-python",
   "name": "python",
   "nbconvert_exporter": "python",
   "pygments_lexer": "ipython2",
   "version": "2.7.13"
  }
 },
 "nbformat": 4,
 "nbformat_minor": 2
}
