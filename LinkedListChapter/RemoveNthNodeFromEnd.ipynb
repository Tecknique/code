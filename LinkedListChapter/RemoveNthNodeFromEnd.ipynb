{
 "cells": [
  {
   "cell_type": "code",
   "execution_count": null,
   "metadata": {
    "collapsed": true
   },
   "outputs": [],
   "source": [
    "# Definition for singly-linked list.\n",
    "# class ListNode(object):\n",
    "#     def __init__(self, x):\n",
    "#         self.val = x\n",
    "#         self.next = None\n",
    "\n",
    "class Solution(object):\n",
    "    def removeNthFromEnd(self, head, n):\n",
    "        \"\"\"\n",
    "        :type head: ListNode\n",
    "        :type n: int\n",
    "        :rtype: ListNode\n",
    "        \"\"\"\n",
    "        cur1,cur2 = head,head\n",
    "        count = 0\n",
    "        if cur1:\n",
    "            count += 1\n",
    "        while cur1.next:\n",
    "            cur1 = cur1.next\n",
    "            count += 1\n",
    "        if n == 1 and count == 1:\n",
    "            return None\n",
    "        else:    \n",
    "            rev_num = count - n\n",
    "            if rev_num == 0:\n",
    "                return head.next\n",
    "            else:\n",
    "                count = 1\n",
    "\n",
    "                while count < rev_num:\n",
    "                    if cur2.next:\n",
    "                        cur2 = cur2.next\n",
    "                        count += 1\n",
    "            \n",
    "                nxt = cur2.next\n",
    "                cur2.next = cur2.next.next\n",
    "                nxt = None\n",
    "        \n",
    "                return head\n",
    "        \n",
    "            \n",
    "            \n",
    "            \n",
    " "
   ]
  }
 ],
 "metadata": {
  "kernelspec": {
   "display_name": "Python 2",
   "language": "python",
   "name": "python2"
  },
  "language_info": {
   "codemirror_mode": {
    "name": "ipython",
    "version": 2
   },
   "file_extension": ".py",
   "mimetype": "text/x-python",
   "name": "python",
   "nbconvert_exporter": "python",
   "pygments_lexer": "ipython2",
   "version": "2.7.13"
  }
 },
 "nbformat": 4,
 "nbformat_minor": 2
}
