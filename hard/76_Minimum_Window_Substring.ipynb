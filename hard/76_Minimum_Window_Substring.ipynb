{
 "cells": [
  {
   "cell_type": "code",
   "execution_count": null,
   "metadata": {
    "collapsed": true
   },
   "outputs": [],
   "source": [
    "S = \"ADOBECODEBANC\"\n",
    "T = \"ABC\"\n",
    "\n",
    "def minWindow(s, t):\n",
    "    slices = []\n",
    "    for idx,char in enumerate(S):\n",
    "        count_substring = {key:0 for key in T}\n",
    "        if char not in T:\n",
    "            continue\n",
    "        else:\n",
    "            l = idx\n",
    "            r = idx\n",
    "            count_substring[char] += 1\n",
    "            while 0 in count_substring.values() and r < len(S)-1:\n",
    "                r += 1\n",
    "                if S[r] not in T:\n",
    "                    continue\n",
    "                else:\n",
    "                    count_substring[S[r]] += 1\n",
    "            if 0 not in count_substring.values():\n",
    "                slic = S[l:r+1]\n",
    "            if slic not in slices:\n",
    "                slices.append(slic)\n",
    "    return min(slices,key=len)\n",
    "\n",
    "minWindow(\"ADOBECODEBANC\", \"ABC\")"
   ]
  }
 ],
 "metadata": {
  "kernelspec": {
   "display_name": "Python 2",
   "language": "python",
   "name": "python2"
  },
  "language_info": {
   "codemirror_mode": {
    "name": "ipython",
    "version": 2
   },
   "file_extension": ".py",
   "mimetype": "text/x-python",
   "name": "python",
   "nbconvert_exporter": "python",
   "pygments_lexer": "ipython2",
   "version": "2.7.13"
  }
 },
 "nbformat": 4,
 "nbformat_minor": 2
}
