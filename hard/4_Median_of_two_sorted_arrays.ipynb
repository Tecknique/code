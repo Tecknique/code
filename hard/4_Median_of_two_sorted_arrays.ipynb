{
 "cells": [
  {
   "cell_type": "code",
   "execution_count": null,
   "metadata": {
    "collapsed": true
   },
   "outputs": [],
   "source": [
    "class Solution(object):\n",
    "    def findMedianSortedArrays(self, nums1, nums2):\n",
    "        \"\"\"\n",
    "        :type nums1: List[int]\n",
    "        :type nums2: List[int]\n",
    "        :rtype: float\n",
    "        \"\"\"\n",
    "        lst = (len(nums1)+len(nums2))*[0]\n",
    "        p1,p2,idx = 0,0,0\n",
    "        while idx < len(lst):\n",
    "            if p1 < len(nums1) and p2 < len(nums2):\n",
    "                if nums1[p1] < nums2[p2]:\n",
    "                    lst[idx] = nums1[p1]\n",
    "                    idx += 1\n",
    "                    p1 += 1\n",
    "                else:\n",
    "                    lst[idx] = nums2[p2]\n",
    "                    idx += 1\n",
    "                    p2 += 1\n",
    "            elif p1 < len(nums1):\n",
    "                lst[idx] = nums1[p1]\n",
    "                idx += 1\n",
    "                p1 += 1\n",
    "            else:\n",
    "                lst[idx] = nums2[p2]\n",
    "                idx += 1\n",
    "                p2 += 1\n",
    "        if len(lst) % 2 != 0:\n",
    "            pos = len(lst)//2\n",
    "            return lst[pos]\n",
    "        else:\n",
    "            pos1 = len(lst)//2\n",
    "            pos2 = (len(lst)//2)-1\n",
    "            return (float(lst[pos1]) + float(lst[pos2]))/2"
   ]
  }
 ],
 "metadata": {
  "kernelspec": {
   "display_name": "Python 2",
   "language": "python",
   "name": "python2"
  },
  "language_info": {
   "codemirror_mode": {
    "name": "ipython",
    "version": 2
   },
   "file_extension": ".py",
   "mimetype": "text/x-python",
   "name": "python",
   "nbconvert_exporter": "python",
   "pygments_lexer": "ipython2",
   "version": "2.7.13"
  }
 },
 "nbformat": 4,
 "nbformat_minor": 2
}
