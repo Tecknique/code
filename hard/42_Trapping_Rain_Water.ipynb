{
 "cells": [
  {
   "cell_type": "code",
   "execution_count": 9,
   "metadata": {},
   "outputs": [],
   "source": [
    "class Solution(object):\n",
    "    def trap(self, lst):\n",
    "        \"\"\"\n",
    "        :type height: List[int]\n",
    "        :rtype: int\n",
    "        \"\"\"\n",
    "        if not lst or len(lst) < 3:\n",
    "            return 0\n",
    "        else:\n",
    "            cur = 0\n",
    "            total = 0\n",
    "            l = 0\n",
    "            r = len(lst) - 1\n",
    "            while l < r:\n",
    "                temp = lst[l if lst[l] < lst[r] else r]\n",
    "                if lst[l] < lst[r]:\n",
    "                    l += 1\n",
    "                else:\n",
    "                    r -= 1\n",
    "                if cur > temp:\n",
    "                    total += (cur - temp)\n",
    "                else:\n",
    "                    cur = temp\n",
    "            return total\n",
    "        \n",
    "lst = [0,1,0,2,1,0,1,3,2,1,2,1]"
   ]
  },
  {
   "cell_type": "code",
   "execution_count": 10,
   "metadata": {
    "collapsed": true
   },
   "outputs": [],
   "source": [
    "def trap(lst):\n",
    "        \"\"\"\n",
    "        :type height: List[int]\n",
    "        :rtype: int\n",
    "        \"\"\"\n",
    "        if not lst or len(lst) < 3:\n",
    "            return 0\n",
    "        else:\n",
    "            cur = 0\n",
    "            total = 0\n",
    "            l = 0\n",
    "            r = len(lst) - 1\n",
    "            while l < r:\n",
    "                temp = lst[l if lst[l] < lst[r] else r]\n",
    "                if lst[l] < lst[r]:\n",
    "                    l += 1\n",
    "                else:\n",
    "                    r -= 1\n",
    "                if cur > temp:\n",
    "                    total += (cur - temp)\n",
    "                else:\n",
    "                    cur = temp\n",
    "            return total\n",
    "        "
   ]
  },
  {
   "cell_type": "code",
   "execution_count": 11,
   "metadata": {
    "collapsed": true
   },
   "outputs": [],
   "source": [
    "lst = [0,1,0,2,1,0,1,3,2,1,2,1]"
   ]
  },
  {
   "cell_type": "code",
   "execution_count": 21,
   "metadata": {},
   "outputs": [
    {
     "data": {
      "text/plain": [
       "14"
      ]
     },
     "execution_count": 21,
     "metadata": {},
     "output_type": "execute_result"
    }
   ],
   "source": [
    "def simpleArraySum(ar):\n",
    "    #\n",
    "    # Write your code here.\n",
    "    #\n",
    "    idx = 0\n",
    "    total = 0\n",
    "    while idx < len(ar):\n",
    "        total += ar[idx]\n",
    "        idx += 1\n",
    "    return total\n",
    "\n",
    "\n",
    "ar = [0,1,0,2,1,0,1,3,2,1,2,1]\n",
    "\n",
    "simpleArraySum(ar)"
   ]
  },
  {
   "cell_type": "code",
   "execution_count": 64,
   "metadata": {},
   "outputs": [
    {
     "name": "stdout",
     "output_type": "stream",
     "text": [
      "12\n"
     ]
    }
   ],
   "source": [
    "def diagonalDifference(arr):\n",
    "    x = 0\n",
    "    y = 0\n",
    "    ltotal = 0\n",
    "    while x < len(arr):\n",
    "        temp = arr[x][y]\n",
    "        ltotal += temp\n",
    "        x += 1\n",
    "        y += 1\n",
    "    x = len(arr) -1\n",
    "    y = 0\n",
    "    rtotal = 0\n",
    "    while x >= 0:\n",
    "        temp = arr[x][y]\n",
    "        rtotal += temp\n",
    "        x -= 1\n",
    "        y += 1\n",
    "    print abs(ltotal-rtotal)\n",
    "        \n",
    "\n",
    "arr = [[14, 2, 4],\n",
    "       [4, 5, 6],\n",
    "       [10, 8, -12]]\n",
    "\n",
    "diagonalDifference(arr)"
   ]
  },
  {
   "cell_type": "code",
   "execution_count": 33,
   "metadata": {},
   "outputs": [
    {
     "data": {
      "text/plain": [
       "5000000015L"
      ]
     },
     "execution_count": 33,
     "metadata": {},
     "output_type": "execute_result"
    }
   ],
   "source": [
    "def aVeryBigSum(ar):\n",
    "    idx = 0\n",
    "    total = 0\n",
    "    while idx <= len(ar)-1:\n",
    "        total += ar[idx]\n",
    "        idx += 1\n",
    "    return total\n",
    "\n",
    "ar = [1000000001, 1000000002, 1000000003, 1000000004, 1000000005]\n",
    "aVeryBigSum(ar)"
   ]
  },
  {
   "cell_type": "code",
   "execution_count": 74,
   "metadata": {},
   "outputs": [
    {
     "name": "stdout",
     "output_type": "stream",
     "text": [
      "0.5\n",
      "0.333333333333\n",
      "0.166666666667\n"
     ]
    }
   ],
   "source": [
    "def plusMinus(arr):\n",
    "    pos = 0\n",
    "    neg = 0\n",
    "    zero = 0\n",
    "    length = float(len(arr))\n",
    "    \n",
    "    for num in arr:\n",
    "        if num < 0:\n",
    "            neg += 1\n",
    "        elif num > 0:\n",
    "            pos += 1\n",
    "        else:\n",
    "            zero += 1\n",
    "    for n in [pos/length, neg/length, zero/length]:\n",
    "        print n\n",
    "\n",
    "arr = [-4,3,-9,0,4,1]\n",
    "plusMinus(arr)"
   ]
  },
  {
   "cell_type": "code",
   "execution_count": 101,
   "metadata": {},
   "outputs": [
    {
     "name": "stdout",
     "output_type": "stream",
     "text": [
      "     #\n",
      "    ##\n",
      "   ###\n",
      "  ####\n",
      " #####\n",
      "######\n"
     ]
    }
   ],
   "source": [
    "n = 6\n",
    "\n",
    "for r in range(n):\n",
    "    num = r+1\n",
    "    print ' '*(n-num) + '#' * num\n",
    "    \n",
    "\n",
    "    \n",
    "    "
   ]
  },
  {
   "cell_type": "code",
   "execution_count": 114,
   "metadata": {},
   "outputs": [
    {
     "name": "stdout",
     "output_type": "stream",
     "text": [
      "20 20\n"
     ]
    }
   ],
   "source": [
    "def miniMaxSum(arr):\n",
    "    minnum = min(arr)\n",
    "    maxnum = max(arr)\n",
    "\n",
    "    minval = 0\n",
    "    maxval = 0\n",
    "    if len(set(arr)) == 1:\n",
    "        print (arr[0]*4),(arr[0]*4)\n",
    "    else:\n",
    "        for num in arr:\n",
    "            if num != minnum:\n",
    "                maxval += num\n",
    "            if num != maxnum:\n",
    "                minval += num\n",
    "        print minval,maxval\n",
    "        \n",
    "arr = [5,5,5,5,5]\n",
    "miniMaxSum(arr) \n",
    "    \n",
    "    "
   ]
  },
  {
   "cell_type": "code",
   "execution_count": 131,
   "metadata": {},
   "outputs": [
    {
     "name": "stdout",
     "output_type": "stream",
     "text": [
      "2\n"
     ]
    }
   ],
   "source": [
    "ar = [3, 2, 1, 3]\n",
    "def birthdayCakeCandles(ar):\n",
    "    mx = 0\n",
    "    idx = 0\n",
    "    while idx < len(ar):\n",
    "        if ar[idx] > mx:\n",
    "            mx = ar[idx]\n",
    "        idx +=1\n",
    "    count = 0 \n",
    "    idx2 = 0\n",
    "    while idx2 < len(ar):\n",
    "        if ar[idx2] != mx:\n",
    "            idx2+=1\n",
    "        else:\n",
    "            idx2+=1\n",
    "            count += 1\n",
    "            \n",
    "    print count\n",
    "birthdayCakeCandles(ar)"
   ]
  },
  {
   "cell_type": "code",
   "execution_count": 196,
   "metadata": {
    "scrolled": false
   },
   "outputs": [
    {
     "name": "stdout",
     "output_type": "stream",
     "text": [
      "[8, 7, 9, 3]\n",
      "[9, 4, 8, 7]\n"
     ]
    }
   ],
   "source": [
    "def maxIncreaseKeepingSkyline(grid):\n",
    "\n",
    "    col = 0\n",
    "    row = 0\n",
    "    cols = len(grid)*[0]\n",
    "    rows = len(grid)*[0]\n",
    "    max_row = 0\n",
    "    while col != len(grid[0]):\n",
    "        max_col = 0\n",
    "        while row != len(grid):\n",
    "            if grid[row][col] > max_col:\n",
    "                max_col = grid[row][col]\n",
    "            row += 1\n",
    "        \n",
    "        cols[col] = max_col\n",
    "        rows[col] = max(grid[col])\n",
    "        col += 1\n",
    "        row = 0\n",
    "        \n",
    "    new_row = 0\n",
    "    new_col = 0\n",
    "    print rows\n",
    "    print cols\n",
    "    new_cols = 0\n",
    "    while new_col != len(cols):\n",
    "        \n",
    "    \n",
    "\n",
    "\n",
    "grid = [[3,0,8,4],[2,4,5,7],[9,2,6,3],[0,3,1,0]]\n",
    "maxIncreaseKeepingSkyline(grid)"
   ]
  }
 ],
 "metadata": {
  "kernelspec": {
   "display_name": "Python 2",
   "language": "python",
   "name": "python2"
  },
  "language_info": {
   "codemirror_mode": {
    "name": "ipython",
    "version": 2
   },
   "file_extension": ".py",
   "mimetype": "text/x-python",
   "name": "python",
   "nbconvert_exporter": "python",
   "pygments_lexer": "ipython2",
   "version": "2.7.13"
  }
 },
 "nbformat": 4,
 "nbformat_minor": 2
}
