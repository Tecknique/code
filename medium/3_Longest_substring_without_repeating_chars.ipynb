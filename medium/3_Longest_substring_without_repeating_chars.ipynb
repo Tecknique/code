{
 "cells": [
  {
   "cell_type": "code",
   "execution_count": null,
   "metadata": {
    "collapsed": true
   },
   "outputs": [],
   "source": [
    "class Solution(object):\n",
    "    def lengthOfLongestSubstring(self, s):\n",
    "    \"\"\"\n",
    "    :type s: str\n",
    "    :rtype: int\n",
    "    \"\"\"\n",
    "    res = s[0]\n",
    "    l = 0\n",
    "    r = len(s)\n",
    "    substring = ''\n",
    "    if len(set(s)) == r:\n",
    "        return r\n",
    "    while len(set(s[l:r])) != len(s[l:r]):   \n",
    "        if len(set(s[l:r])) != len(s[l:r]):\n",
    "            r-=1\n",
    "            if len(sub) > substring:\n",
    "                substring = sub\n",
    "        else:\n",
    "            r=len(s)\n",
    "            l+=1\n",
    "            \n",
    "    return len(substring)\n"
   ]
  },
  {
   "cell_type": "code",
   "execution_count": 21,
   "metadata": {},
   "outputs": [
    {
     "data": {
      "text/plain": [
       "'solbent'"
      ]
     },
     "execution_count": 21,
     "metadata": {},
     "output_type": "execute_result"
    }
   ],
   "source": [
    "lengthOfLongestSubstring('rssolbents')"
   ]
  }
 ],
 "metadata": {
  "kernelspec": {
   "display_name": "Python 2",
   "language": "python",
   "name": "python2"
  },
  "language_info": {
   "codemirror_mode": {
    "name": "ipython",
    "version": 2
   },
   "file_extension": ".py",
   "mimetype": "text/x-python",
   "name": "python",
   "nbconvert_exporter": "python",
   "pygments_lexer": "ipython2",
   "version": "2.7.13"
  }
 },
 "nbformat": 4,
 "nbformat_minor": 2
}
