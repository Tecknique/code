{
 "cells": [
  {
   "cell_type": "code",
   "execution_count": 6,
   "metadata": {},
   "outputs": [
    {
     "name": "stdout",
     "output_type": "stream",
     "text": [
      "49\n"
     ]
    }
   ],
   "source": [
    "lst = [1,8,6,2,5,4,8,3,7]\n",
    "\n",
    "l = 0\n",
    "r = len(lst)-1\n",
    "ans = 0\n",
    "temp = 0\n",
    "while l != r:\n",
    "    temp = r-l\n",
    "    res = temp*min(lst[l],lst[r])\n",
    "    if res > ans:\n",
    "            ans = res\n",
    "    if lst[l]<lst[r]:\n",
    "        l += 1\n",
    "    else:\n",
    "        r -= 1\n",
    "print ans\n",
    "        \n",
    "        \n",
    "\n",
    "\n"
   ]
  }
 ],
 "metadata": {
  "kernelspec": {
   "display_name": "Python 2",
   "language": "python",
   "name": "python2"
  },
  "language_info": {
   "codemirror_mode": {
    "name": "ipython",
    "version": 2
   },
   "file_extension": ".py",
   "mimetype": "text/x-python",
   "name": "python",
   "nbconvert_exporter": "python",
   "pygments_lexer": "ipython2",
   "version": "2.7.13"
  }
 },
 "nbformat": 4,
 "nbformat_minor": 2
}
