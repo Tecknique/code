{
 "cells": [
  {
   "cell_type": "code",
   "execution_count": null,
   "metadata": {
    "collapsed": true
   },
   "outputs": [],
   "source": [
    "# Definition for singly-linked list.\n",
    "# class ListNode(object):\n",
    "#     def __init__(self, x):\n",
    "#         self.val = x\n",
    "#         self.next = None\n",
    "\n",
    "class Solution(object):\n",
    "    def addTwoNumbers(self, l1, l2):\n",
    "        \"\"\"\n",
    "        :type l1: ListNode\n",
    "        :type l2: ListNode\n",
    "        :rtype: ListNode\n",
    "        \"\"\"\n",
    "        head = ListNode(None)\n",
    "        ans_next = head\n",
    "        remainder = 0\n",
    "        while l1 or l2 or remainder:\n",
    "            if l1 and l2:\n",
    "                cur_sum = remainder + l1.val + l2.val\n",
    "                \n",
    "            elif l1:\n",
    "                cur_sum = remainder + l1.val\n",
    "            elif l2:\n",
    "                cur_sum = remainder + l2.val\n",
    "            else:\n",
    "                cur_sum = remainder\n",
    "                \n",
    "            \n",
    "            ans_next.next = ListNode(cur_sum % 10)\n",
    "            remainder = cur_sum // 10\n",
    "            if l1:\n",
    "                l1 = l1.next\n",
    "            if l2:\n",
    "                l2 = l2.next\n",
    "            ans_next = ans_next.next\n",
    "        return head.next\n",
    "        \n",
    "            \n",
    "\n",
    "        \n",
    "                   \n",
    "        \n",
    "        \n",
    "        \n",
    "        \n",
    "            "
   ]
  }
 ],
 "metadata": {
  "kernelspec": {
   "display_name": "Python 2",
   "language": "python",
   "name": "python2"
  },
  "language_info": {
   "codemirror_mode": {
    "name": "ipython",
    "version": 2
   },
   "file_extension": ".py",
   "mimetype": "text/x-python",
   "name": "python",
   "nbconvert_exporter": "python",
   "pygments_lexer": "ipython2",
   "version": "2.7.13"
  }
 },
 "nbformat": 4,
 "nbformat_minor": 2
}
