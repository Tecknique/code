{
 "cells": [
  {
   "cell_type": "code",
   "execution_count": null,
   "metadata": {
    "collapsed": true
   },
   "outputs": [],
   "source": [
    "#Time limit exceeded\n",
    "\n",
    "class Solution(object):\n",
    "    def minimumTotal(self, triangle):\n",
    "        \"\"\"\n",
    "        :type triangle: List[List[int]]\n",
    "        :rtype: int\n",
    "        \"\"\"\n",
    "        def _minimumTotal(i,j):\n",
    "            min_dict = {}\n",
    "            key = self.key_gen(i,j)\n",
    "            if key not in min_dict:\n",
    "                if i == len(triangle)-1:\n",
    "                    min_dict[key] = triangle[i][j]\n",
    "                else:\n",
    "                    left = _minimumTotal(i+1,j)\n",
    "                    right = _minimumTotal(i+1,j+1)\n",
    "                    min_dict[key] = min(left,right) + triangle[i][j]\n",
    "            return min_dict[key]\n",
    "        return _minimumTotal(0,0)\n",
    "        \n",
    "    def key_gen(self,i,j):\n",
    "        return ','.join([str(i),str(j)])"
   ]
  }
 ],
 "metadata": {
  "kernelspec": {
   "display_name": "Python 2",
   "language": "python",
   "name": "python2"
  },
  "language_info": {
   "codemirror_mode": {
    "name": "ipython",
    "version": 2
   },
   "file_extension": ".py",
   "mimetype": "text/x-python",
   "name": "python",
   "nbconvert_exporter": "python",
   "pygments_lexer": "ipython2",
   "version": "2.7.13"
  }
 },
 "nbformat": 4,
 "nbformat_minor": 2
}
