{
 "cells": [
  {
   "cell_type": "code",
   "execution_count": null,
   "metadata": {
    "collapsed": true
   },
   "outputs": [],
   "source": [
    "def is_solved(nums):\n",
    "    pre = float('inf')\n",
    "    for item in nums:\n",
    "        if pre > item:\n",
    "            pre = item\n",
    "        else:\n",
    "            return False\n",
    "    return True        \n",
    "        \n",
    "def flip(nums,idx):\n",
    "    nums = nums[:idx] + nums[idx:][::-1]\n",
    "    return nums\n",
    "\n",
    "           \n",
    "def solve(nums):\n",
    "    for pos in range(len(nums)):\n",
    "        maxnum = 0\n",
    "        for max_pos in range(pos,len(nums)):\n",
    "            if nums[max_pos] > maxnum:\n",
    "                maxnum = nums[max_pos]\n",
    "                max_ind = max_pos\n",
    "        if max_ind == len(nums):\n",
    "            nums = flip(nums,pos)\n",
    "        elif max_ind == pos:\n",
    "            continue\n",
    "        else:\n",
    "            nums = flip(nums,max_ind)\n",
    "            nums = flip(nums,pos)\n",
    "        print nums\n",
    "\n",
    "    return nums"
   ]
  }
 ],
 "metadata": {
  "kernelspec": {
   "display_name": "Python 2",
   "language": "python",
   "name": "python2"
  },
  "language_info": {
   "codemirror_mode": {
    "name": "ipython",
    "version": 2
   },
   "file_extension": ".py",
   "mimetype": "text/x-python",
   "name": "python",
   "nbconvert_exporter": "python",
   "pygments_lexer": "ipython2",
   "version": "2.7.13"
  }
 },
 "nbformat": 4,
 "nbformat_minor": 2
}
